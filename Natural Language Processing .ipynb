{
 "cells": [
  {
   "cell_type": "code",
   "execution_count": 1,
   "metadata": {},
   "outputs": [
    {
     "name": "stdout",
     "output_type": "stream",
     "text": [
      "showing info https://raw.githubusercontent.com/nltk/nltk_data/gh-pages/index.xml\n"
     ]
    },
    {
     "name": "stderr",
     "output_type": "stream",
     "text": [
      "[nltk_data] Error loading punkt: <urlopen error [Errno 11001]\n",
      "[nltk_data]     getaddrinfo failed>\n"
     ]
    },
    {
     "data": {
      "text/plain": [
       "False"
      ]
     },
     "execution_count": 1,
     "metadata": {},
     "output_type": "execute_result"
    }
   ],
   "source": [
    "# Tokenization of paragraphs/sentences \n",
    "import nltk \n",
    "nltk.download()\n",
    "nltk.download('punkt')"
   ]
  },
  {
   "cell_type": "code",
   "execution_count": 2,
   "metadata": {},
   "outputs": [],
   "source": [
    "# Paragraph or corpse for tokenization , that is for further splitting the paragraph \n",
    "paragraph = \"\"\" I have three visions for india. In 3000 years of our history, people from all over the world have come and invaded us, captured our lands, conquered our minds.\n",
    "from alexander onwards, the greeks, the turks, the moguls, the portuhuese , the british, te french, the dutch, all of them came and looted us, took over what was ours.\n",
    "Yet we have not done this to any other nation. we have not conquered anyone. we have not grabbed their land, their culture, their history and tried to enforce our way of life on them.\n",
    "why ? Because we respect the freedom of others. That is why my first vision is that of freedom. I beleive that India got its first vision of this in 1857, when we started the war of Independence. \n",
    "It is this freedom that we must protect and nurture and build on. If we are not free, no one will respect us. My second vision for India's Development. For fifty years we have been a developing nation.\n",
    "It is time we see ourselves as a developed nation. we are among the top 5 nations of the world in terms of GDP. We have a 10 percent growth rate in most areas. \n",
    "our poverty levels are failing. Our achievements are being globally recognised today. yet we lack the self-confidence to see ourselvesas a developed nation, self-reliant and self-assured.\n",
    "Isn't this incorrect? I have a third vision. India must stand up to the world. Because I believe that unless India stands up to the world, no one will respect us.\n",
    "only strength respects strength. We must be strong up to the world, no one will respect us. Only strength respects strength. \n",
    "We must be strong not only as a military power but also as an economic power. Both must go hand in hand. My good fortune was to have worked with three great minds.\n",
    "Dr. vikram sarabhai of the dept. of space, professor satish dhawan, who succeeded him and Dr. Brahm Prakash, father of nuclear material.\n",
    "I was lucky to have worked with all three of them closely and consider this the great opportunity. I see four milestones in my career\"\"\"\n"
   ]
  },
  {
   "cell_type": "code",
   "execution_count": 3,
   "metadata": {},
   "outputs": [],
   "source": [
    "# In order to convert paragraph into sentences, we will use inbuilt function sent_tokenize, that is Tokeninizing Sentences. \n",
    "\n",
    "sentences = nltk.sent_tokenize(paragraph)"
   ]
  },
  {
   "cell_type": "code",
   "execution_count": 4,
   "metadata": {},
   "outputs": [
    {
     "name": "stdout",
     "output_type": "stream",
     "text": [
      "[' I have three visions for india.', 'In 3000 years of our history, people from all over the world have come and invaded us, captured our lands, conquered our minds.', 'from alexander onwards, the greeks, the turks, the moguls, the portuhuese , the british, te french, the dutch, all of them came and looted us, took over what was ours.', 'Yet we have not done this to any other nation.', 'we have not conquered anyone.', 'we have not grabbed their land, their culture, their history and tried to enforce our way of life on them.', 'why ?', 'Because we respect the freedom of others.', 'That is why my first vision is that of freedom.', 'I beleive that India got its first vision of this in 1857, when we started the war of Independence.', 'It is this freedom that we must protect and nurture and build on.', 'If we are not free, no one will respect us.', \"My second vision for India's Development.\", 'For fifty years we have been a developing nation.', 'It is time we see ourselves as a developed nation.', 'we are among the top 5 nations of the world in terms of GDP.', 'We have a 10 percent growth rate in most areas.', 'our poverty levels are failing.', 'Our achievements are being globally recognised today.', 'yet we lack the self-confidence to see ourselvesas a developed nation, self-reliant and self-assured.', \"Isn't this incorrect?\", 'I have a third vision.', 'India must stand up to the world.', 'Because I believe that unless India stands up to the world, no one will respect us.', 'only strength respects strength.', 'We must be strong up to the world, no one will respect us.', 'Only strength respects strength.', 'We must be strong not only as a military power but also as an economic power.', 'Both must go hand in hand.', 'My good fortune was to have worked with three great minds.', 'Dr. vikram sarabhai of the dept.', 'of space, professor satish dhawan, who succeeded him and Dr. Brahm Prakash, father of nuclear material.', 'I was lucky to have worked with all three of them closely and consider this the great opportunity.', 'I see four milestones in my career']\n"
     ]
    }
   ],
   "source": [
    "# converted the sentence into the lists \n",
    "print(sentences)"
   ]
  },
  {
   "cell_type": "code",
   "execution_count": 5,
   "metadata": {},
   "outputs": [],
   "source": [
    "# After doing the above process, text pre-processing is done on each and every sentences. Now, we will calculate on number of words..\n",
    "# Tokenizing words \n",
    "words = nltk.word_tokenize(paragraph)"
   ]
  },
  {
   "cell_type": "code",
   "execution_count": 6,
   "metadata": {},
   "outputs": [
    {
     "name": "stdout",
     "output_type": "stream",
     "text": [
      "['I', 'have', 'three', 'visions', 'for', 'india', '.', 'In', '3000', 'years', 'of', 'our', 'history', ',', 'people', 'from', 'all', 'over', 'the', 'world', 'have', 'come', 'and', 'invaded', 'us', ',', 'captured', 'our', 'lands', ',', 'conquered', 'our', 'minds', '.', 'from', 'alexander', 'onwards', ',', 'the', 'greeks', ',', 'the', 'turks', ',', 'the', 'moguls', ',', 'the', 'portuhuese', ',', 'the', 'british', ',', 'te', 'french', ',', 'the', 'dutch', ',', 'all', 'of', 'them', 'came', 'and', 'looted', 'us', ',', 'took', 'over', 'what', 'was', 'ours', '.', 'Yet', 'we', 'have', 'not', 'done', 'this', 'to', 'any', 'other', 'nation', '.', 'we', 'have', 'not', 'conquered', 'anyone', '.', 'we', 'have', 'not', 'grabbed', 'their', 'land', ',', 'their', 'culture', ',', 'their', 'history', 'and', 'tried', 'to', 'enforce', 'our', 'way', 'of', 'life', 'on', 'them', '.', 'why', '?', 'Because', 'we', 'respect', 'the', 'freedom', 'of', 'others', '.', 'That', 'is', 'why', 'my', 'first', 'vision', 'is', 'that', 'of', 'freedom', '.', 'I', 'beleive', 'that', 'India', 'got', 'its', 'first', 'vision', 'of', 'this', 'in', '1857', ',', 'when', 'we', 'started', 'the', 'war', 'of', 'Independence', '.', 'It', 'is', 'this', 'freedom', 'that', 'we', 'must', 'protect', 'and', 'nurture', 'and', 'build', 'on', '.', 'If', 'we', 'are', 'not', 'free', ',', 'no', 'one', 'will', 'respect', 'us', '.', 'My', 'second', 'vision', 'for', 'India', \"'s\", 'Development', '.', 'For', 'fifty', 'years', 'we', 'have', 'been', 'a', 'developing', 'nation', '.', 'It', 'is', 'time', 'we', 'see', 'ourselves', 'as', 'a', 'developed', 'nation', '.', 'we', 'are', 'among', 'the', 'top', '5', 'nations', 'of', 'the', 'world', 'in', 'terms', 'of', 'GDP', '.', 'We', 'have', 'a', '10', 'percent', 'growth', 'rate', 'in', 'most', 'areas', '.', 'our', 'poverty', 'levels', 'are', 'failing', '.', 'Our', 'achievements', 'are', 'being', 'globally', 'recognised', 'today', '.', 'yet', 'we', 'lack', 'the', 'self-confidence', 'to', 'see', 'ourselvesas', 'a', 'developed', 'nation', ',', 'self-reliant', 'and', 'self-assured', '.', 'Is', \"n't\", 'this', 'incorrect', '?', 'I', 'have', 'a', 'third', 'vision', '.', 'India', 'must', 'stand', 'up', 'to', 'the', 'world', '.', 'Because', 'I', 'believe', 'that', 'unless', 'India', 'stands', 'up', 'to', 'the', 'world', ',', 'no', 'one', 'will', 'respect', 'us', '.', 'only', 'strength', 'respects', 'strength', '.', 'We', 'must', 'be', 'strong', 'up', 'to', 'the', 'world', ',', 'no', 'one', 'will', 'respect', 'us', '.', 'Only', 'strength', 'respects', 'strength', '.', 'We', 'must', 'be', 'strong', 'not', 'only', 'as', 'a', 'military', 'power', 'but', 'also', 'as', 'an', 'economic', 'power', '.', 'Both', 'must', 'go', 'hand', 'in', 'hand', '.', 'My', 'good', 'fortune', 'was', 'to', 'have', 'worked', 'with', 'three', 'great', 'minds', '.', 'Dr.', 'vikram', 'sarabhai', 'of', 'the', 'dept', '.', 'of', 'space', ',', 'professor', 'satish', 'dhawan', ',', 'who', 'succeeded', 'him', 'and', 'Dr.', 'Brahm', 'Prakash', ',', 'father', 'of', 'nuclear', 'material', '.', 'I', 'was', 'lucky', 'to', 'have', 'worked', 'with', 'all', 'three', 'of', 'them', 'closely', 'and', 'consider', 'this', 'the', 'great', 'opportunity', '.', 'I', 'see', 'four', 'milestones', 'in', 'my', 'career']\n"
     ]
    }
   ],
   "source": [
    "# Further converted the words of each sentences into the lists.\n",
    "print(words)"
   ]
  },
  {
   "cell_type": "code",
   "execution_count": 7,
   "metadata": {},
   "outputs": [],
   "source": [
    "# Lemmatization # importing Lemmatization modules \n",
    "\n",
    "from nltk.stem import WordNetLemmatizer \n",
    "from nltk.corpus import stopwords"
   ]
  },
  {
   "cell_type": "code",
   "execution_count": 8,
   "metadata": {},
   "outputs": [],
   "source": [
    "para = \"\"\" I have three visions for india. In 3000 years of our history, people from all over the world have come and invaded us, captured our lands, conquered our minds.\n",
    "from alexander onwards, the greeks, the turks, the moguls, the portuhuese , the british, te french, the dutch, all of them came and looted us, took over what was ours.\n",
    "Yet we have not done this to any other nation. we have not conquered anyone. we have not grabbed their land, their culture, their history and tried to enforce our way of life on them.\n",
    "why ? Because we respect the freedom of others. That is why my first vision is that of freedom. I beleive that India got its first vision of this in 1857, when we started the war of Independence. \n",
    "It is this freedom that we must protect and nurture and build on. If we are not free, no one will respect us. My second vision for India's Development. For fifty years we have been a developing nation.\n",
    "It is time we see ourselves as a developed nation. we are among the top 5 nations of the world in terms of GDP. We have a 10 percent growth rate in most areas. \n",
    "our poverty levels are failing. Our achievements are being globally recognised today. yet we lack the self-confidence to see ourselvesas a developed nation, self-reliant and self-assured.\n",
    "Isn't this incorrect? I have a third vision. India must stand up to the world. Because I believe that unless India stands up to the world, no one will respect us.\n",
    "only strength respects strength. We must be strong up to the world, no one will respect us. Only strength respects strength. \n",
    "We must be strong not only as a military power but also as an economic power. Both must go hand in hand. My good fortune was to have worked with three great minds.\n",
    "Dr. vikram sarabhai of the dept. of space, professor satish dhawan, who succeeded him and Dr. Brahm Prakash, father of nuclear material.\n",
    "I was lucky to have worked with all three of them closely and consider this the great opportunity. I see four milestones in my career\"\"\"\n"
   ]
  },
  {
   "cell_type": "code",
   "execution_count": 9,
   "metadata": {},
   "outputs": [],
   "source": [
    "import nltk\n",
    "sent = nltk.sent_tokenize(para)\n",
    "lemmatizer = WordNetLemmatizer()"
   ]
  },
  {
   "cell_type": "code",
   "execution_count": 10,
   "metadata": {},
   "outputs": [],
   "source": [
    "# Lemmatization \n",
    "for i in range(len(sent)):\n",
    "    words = nltk.word_tokenize(sent[i]) \n",
    "    words = [lemmatizer.lemmatize(word) for word in words if word not in set(stopwords.words('english'))]\n",
    "    sent[i] = ''.join(words)"
   ]
  },
  {
   "cell_type": "code",
   "execution_count": 11,
   "metadata": {},
   "outputs": [
    {
     "name": "stdout",
     "output_type": "stream",
     "text": [
      "['Ithreevisionindia.', 'In3000yearhistory,peopleworldcomeinvadedu,capturedland,conqueredmind.', 'alexanderonwards,greek,turk,mogul,portuhuese,british,tefrench,dutch,camelootedu,took.', 'Yetdonenation.', 'conqueredanyone.', 'grabbedland,culture,historytriedenforcewaylife.', '?', 'Becauserespectfreedomothers.', 'Thatfirstvisionfreedom.', 'IbeleiveIndiagotfirstvision1857,startedwarIndependence.', 'Itfreedommustprotectnurturebuild.', 'Iffree,onerespectu.', \"MysecondvisionIndia'sDevelopment.\", 'Forfiftyyeardevelopingnation.', 'Ittimeseedevelopednation.', 'amongtop5nationworldtermGDP.', 'We10percentgrowthratearea.', 'povertylevelfailing.', 'Ourachievementgloballyrecognisedtoday.', 'yetlackself-confidenceseeourselvesasdevelopednation,self-reliantself-assured.', \"Isn'tincorrect?\", 'Ithirdvision.', 'Indiamuststandworld.', 'BecauseIbelieveunlessIndiastandworld,onerespectu.', 'strengthrespectstrength.', 'Wemuststrongworld,onerespectu.', 'Onlystrengthrespectstrength.', 'Wemuststrongmilitarypoweralsoeconomicpower.', 'Bothmustgohandhand.', 'Mygoodfortuneworkedthreegreatmind.', 'Dr.vikramsarabhaidept.', 'space,professorsatishdhawan,succeededDr.BrahmPrakash,fathernuclearmaterial.', 'Iluckyworkedthreecloselyconsidergreatopportunity.', 'Iseefourmilestonecareer']\n"
     ]
    }
   ],
   "source": [
    "print(sent)"
   ]
  },
  {
   "cell_type": "code",
   "execution_count": 12,
   "metadata": {},
   "outputs": [],
   "source": [
    "# Bag of Words \n",
    "\n",
    "import nltk \n",
    "paragraph = \"\"\" I have three visions for india. In 3000 years of our history, people from all over the world have come and invaded us, captured our lands, conquered our minds.\n",
    "from alexander onwards, the greeks, the turks, the moguls, the portuhuese , the british, te french, the dutch, all of them came and looted us, took over what was ours.\n",
    "Yet we have not done this to any other nation. we have not conquered anyone. we have not grabbed their land, their culture, their history and tried to enforce our way of life on them.\n",
    "why ? Because we respect the freedom of others. That is why my first vision is that of freedom. I beleive that India got its first vision of this in 1857, when we started the war of Independence. \n",
    "It is this freedom that we must protect and nurture and build on. If we are not free, no one will respect us. My second vision for India's Development. For fifty years we have been a developing nation.\n",
    "It is time we see ourselves as a developed nation. we are among the top 5 nations of the world in terms of GDP. We have a 10 percent growth rate in most areas. \n",
    "our poverty levels are failing. Our achievements are being globally recognised today. yet we lack the self-confidence to see ourselvesas a developed nation, self-reliant and self-assured.\n",
    "Isn't this incorrect? I have a third vision. India must stand up to the world. Because I believe that unless India stands up to the world, no one will respect us.\n",
    "only strength respects strength. We must be strong up to the world, no one will respect us. Only strength respects strength. \n",
    "We must be strong not only as a military power but also as an economic power. Both must go hand in hand. My good fortune was to have worked with three great minds.\n",
    "Dr. vikram sarabhai of the dept. of space, professor satish dhawan, who succeeded him and Dr. Brahm Prakash, father of nuclear material.\n",
    "I was lucky to have worked with all three of them closely and consider this the great opportunity. I see four milestones in my career\"\"\"\n"
   ]
  },
  {
   "cell_type": "code",
   "execution_count": 13,
   "metadata": {},
   "outputs": [],
   "source": [
    "# Cleaning the texts , that is cleaning the lowering part also \n",
    "import re \n",
    "# re module helps in cleaning the paragraph from full stop, commas, stopwords, lemmatizing or stemming , lower the sentences.\n",
    "from nltk.corpus import stopwords\n",
    "from nltk.stem.porter import PorterStemmer \n",
    "from nltk.stem import WordNetLemmatizer \n",
    "ps = PorterStemmer()\n",
    "wordnet = WordNetLemmatizer()\n",
    "sentences = nltk.sent_tokenize(paragraph)\n",
    "corpus = []\n",
    "for i in range(len(sentences)):\n",
    "    review = re.sub('[^a-zA-Z]', '', sentences[i]) # ^ means not, apart from. here, apart from all words and characters, replacing everything with spaces and this algorithm is followed for every sentences.\n",
    "    review = review.lower() # lowering the characters of each and every sentences;\n",
    "    review = review.split() # We will get list of words which are stored in review\n",
    "    review = [wordnet.lemmatize(word) for word in review if not word in set(stopwords.words('english'))] # this is list comprehension. here we are performing like if the word is not present in stopwords then stemmimg will be performed. \n",
    "    review = ''.join(review) # joining all the words of the review into the review\n",
    "    corpus.append(review) # here we are appending the all the words of review into the blank list called corpus. \n",
    "    \n",
    "    "
   ]
  },
  {
   "cell_type": "code",
   "execution_count": 14,
   "metadata": {},
   "outputs": [
    {
     "data": {
      "text/plain": [
       "['ihavethreevisionsforindia',\n",
       " 'inyearsofourhistorypeoplefromallovertheworldhavecomeandinvadeduscapturedourlandsconqueredourminds',\n",
       " 'fromalexanderonwardsthegreekstheturksthemogulstheportuhuesethebritishtefrenchthedutchallofthemcameandlootedustookoverwhatwasours',\n",
       " 'yetwehavenotdonethistoanyothernation',\n",
       " 'wehavenotconqueredanyone',\n",
       " 'wehavenotgrabbedtheirlandtheirculturetheirhistoryandtriedtoenforceourwayoflifeonthem',\n",
       " '',\n",
       " 'becausewerespectthefreedomofothers',\n",
       " 'thatiswhymyfirstvisionisthatoffreedom',\n",
       " 'ibeleivethatindiagotitsfirstvisionofthisinwhenwestartedthewarofindependence',\n",
       " 'itisthisfreedomthatwemustprotectandnurtureandbuildon',\n",
       " 'ifwearenotfreenoonewillrespectus',\n",
       " 'mysecondvisionforindiasdevelopment',\n",
       " 'forfiftyyearswehavebeenadevelopingnation',\n",
       " 'itistimeweseeourselvesasadevelopednation',\n",
       " 'weareamongthetopnationsoftheworldintermsofgdp',\n",
       " 'wehaveapercentgrowthrateinmostareas',\n",
       " 'ourpovertylevelsarefailing',\n",
       " 'ourachievementsarebeinggloballyrecognisedtoday',\n",
       " 'yetwelacktheselfconfidencetoseeourselvesasadevelopednationselfreliantandselfassured',\n",
       " 'isntthisincorrect',\n",
       " 'ihaveathirdvision',\n",
       " 'indiamuststanduptotheworld',\n",
       " 'becauseibelievethatunlessindiastandsuptotheworldnoonewillrespectus',\n",
       " 'onlystrengthrespectsstrength',\n",
       " 'wemustbestronguptotheworldnoonewillrespectus',\n",
       " 'onlystrengthrespectsstrength',\n",
       " 'wemustbestrongnotonlyasamilitarypowerbutalsoasaneconomicpower',\n",
       " 'bothmustgohandinhand',\n",
       " 'mygoodfortunewastohaveworkedwiththreegreatminds',\n",
       " 'drvikramsarabhaiofthedept',\n",
       " 'ofspaceprofessorsatishdhawanwhosucceededhimanddrbrahmprakashfatherofnuclearmaterial',\n",
       " 'iwasluckytohaveworkedwithallthreeofthemcloselyandconsiderthisthegreatopportunity',\n",
       " 'iseefourmilestonesinmycareer']"
      ]
     },
     "execution_count": 14,
     "metadata": {},
     "output_type": "execute_result"
    }
   ],
   "source": [
    "corpus"
   ]
  },
  {
   "cell_type": "code",
   "execution_count": 15,
   "metadata": {},
   "outputs": [],
   "source": [
    "# creating the bag of words model \n",
    "from sklearn.feature_extraction.text import CountVectorizer\n",
    "cv = CountVectorizer(max_features = 1500)\n",
    "X = cv.fit_transform(corpus).toarray "
   ]
  },
  {
   "cell_type": "code",
   "execution_count": 17,
   "metadata": {},
   "outputs": [],
   "source": [
    "# Term Frequency and Inverse Document Frequency \n",
    "# Cleaning the texts \n",
    "import re \n",
    "from nltk.corpus import stopwords \n",
    "from nltk.stem.porter import PorterStemmer\n",
    "from nltk.stem import WordNetLemmatizer "
   ]
  },
  {
   "cell_type": "code",
   "execution_count": 18,
   "metadata": {},
   "outputs": [],
   "source": [
    "paragraph = \"\"\" I have three visions for india. In 3000 years of our history, people from all over the world have come and invaded us, captured our lands, conquered our minds.\n",
    "from alexander onwards, the greeks, the turks, the moguls, the portuhuese , the british, te french, the dutch, all of them came and looted us, took over what was ours.\n",
    "Yet we have not done this to any other nation. we have not conquered anyone. we have not grabbed their land, their culture, their history and tried to enforce our way of life on them.\n",
    "why ? Because we respect the freedom of others. That is why my first vision is that of freedom. I beleive that India got its first vision of this in 1857, when we started the war of Independence. \n",
    "It is this freedom that we must protect and nurture and build on. If we are not free, no one will respect us. My second vision for India's Development. For fifty years we have been a developing nation.\n",
    "It is time we see ourselves as a developed nation. we are among the top 5 nations of the world in terms of GDP. We have a 10 percent growth rate in most areas. \n",
    "our poverty levels are failing. Our achievements are being globally recognised today. yet we lack the self-confidence to see ourselvesas a developed nation, self-reliant and self-assured.\n",
    "Isn't this incorrect? I have a third vision. India must stand up to the world. Because I believe that unless India stands up to the world, no one will respect us.\n",
    "only strength respects strength. We must be strong up to the world, no one will respect us. Only strength respects strength. \n",
    "We must be strong not only as a military power but also as an economic power. Both must go hand in hand. My good fortune was to have worked with three great minds.\n",
    "Dr. vikram sarabhai of the dept. of space, professor satish dhawan, who succeeded him and Dr. Brahm Prakash, father of nuclear material.\n",
    "I was lucky to have worked with all three of them closely and consider this the great opportunity. I see four milestones in my career\"\"\""
   ]
  },
  {
   "cell_type": "code",
   "execution_count": 23,
   "metadata": {},
   "outputs": [],
   "source": [
    "ps = PorterStemmer()\n",
    "wordnet = WordNetLemmatizer()\n",
    "sentences = nltk.sent_tokenize(paragraph)\n",
    "corpus = []\n",
    "for i in range(len(sentences)):\n",
    "    review = re.sub('[^a-zA-Z]', '', sentences[i])\n",
    "    review = review.lower()\n",
    "    review = review.split()\n",
    "    review = [wordnet.lemmatize(word) for word in review if not word in set(stopwords.words('english'))]\n",
    "    review = ''.join(review)\n",
    "    corpus.append(review)"
   ]
  },
  {
   "cell_type": "code",
   "execution_count": 24,
   "metadata": {},
   "outputs": [
    {
     "name": "stdout",
     "output_type": "stream",
     "text": [
      "['ihavethreevisionsforindia', 'inyearsofourhistorypeoplefromallovertheworldhavecomeandinvadeduscapturedourlandsconqueredourminds', 'fromalexanderonwardsthegreekstheturksthemogulstheportuhuesethebritishtefrenchthedutchallofthemcameandlootedustookoverwhatwasours', 'yetwehavenotdonethistoanyothernation', 'wehavenotconqueredanyone', 'wehavenotgrabbedtheirlandtheirculturetheirhistoryandtriedtoenforceourwayoflifeonthem', '', 'becausewerespectthefreedomofothers', 'thatiswhymyfirstvisionisthatoffreedom', 'ibeleivethatindiagotitsfirstvisionofthisinwhenwestartedthewarofindependence', 'itisthisfreedomthatwemustprotectandnurtureandbuildon', 'ifwearenotfreenoonewillrespectus', 'mysecondvisionforindiasdevelopment', 'forfiftyyearswehavebeenadevelopingnation', 'itistimeweseeourselvesasadevelopednation', 'weareamongthetopnationsoftheworldintermsofgdp', 'wehaveapercentgrowthrateinmostareas', 'ourpovertylevelsarefailing', 'ourachievementsarebeinggloballyrecognisedtoday', 'yetwelacktheselfconfidencetoseeourselvesasadevelopednationselfreliantandselfassured', 'isntthisincorrect', 'ihaveathirdvision', 'indiamuststanduptotheworld', 'becauseibelievethatunlessindiastandsuptotheworldnoonewillrespectus', 'onlystrengthrespectsstrength', 'wemustbestronguptotheworldnoonewillrespectus', 'onlystrengthrespectsstrength', 'wemustbestrongnotonlyasamilitarypowerbutalsoasaneconomicpower', 'bothmustgohandinhand', 'mygoodfortunewastohaveworkedwiththreegreatminds', 'drvikramsarabhaiofthedept', 'ofspaceprofessorsatishdhawanwhosucceededhimanddrbrahmprakashfatherofnuclearmaterial', 'iwasluckytohaveworkedwithallthreeofthemcloselyandconsiderthisthegreatopportunity', 'iseefourmilestonesinmycareer']\n"
     ]
    }
   ],
   "source": [
    "print(corpus)"
   ]
  },
  {
   "cell_type": "code",
   "execution_count": 25,
   "metadata": {},
   "outputs": [],
   "source": [
    "# Creating the Tf-IDF model\n",
    "from sklearn.feature_extraction.text import TfidfVectorizer\n",
    "cv = TfidfVectorizer()\n",
    "X = cv.fit_transform(corpus).toarray()"
   ]
  },
  {
   "cell_type": "code",
   "execution_count": null,
   "metadata": {},
   "outputs": [],
   "source": []
  }
 ],
 "metadata": {
  "kernelspec": {
   "display_name": "Python 3",
   "language": "python",
   "name": "python3"
  },
  "language_info": {
   "codemirror_mode": {
    "name": "ipython",
    "version": 3
   },
   "file_extension": ".py",
   "mimetype": "text/x-python",
   "name": "python",
   "nbconvert_exporter": "python",
   "pygments_lexer": "ipython3",
   "version": "3.8.5"
  }
 },
 "nbformat": 4,
 "nbformat_minor": 4
}
